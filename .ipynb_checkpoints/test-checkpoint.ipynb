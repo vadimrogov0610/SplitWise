{
 "cells": [
  {
   "cell_type": "code",
   "execution_count": null,
   "id": "aba5794d-f540-461f-b13d-9d3edc536b40",
   "metadata": {},
   "outputs": [],
   "source": []
  }
 ],
 "metadata": {
  "kernelspec": {
   "display_name": "Python 3 (ipykernel)",
   "language": "python",
   "name": "python3"
  },
  "language_info": {
   "name": ""
  }
 },
 "nbformat": 4,
 "nbformat_minor": 5
}
