{
 "cells": [
  {
   "cell_type": "code",
   "execution_count": 191,
   "id": "bdc474a0-3d1f-48ce-9aa0-641434c73cc7",
   "metadata": {},
   "outputs": [
    {
     "name": "stdout",
     "output_type": "stream",
     "text": [
      "The autoreload extension is already loaded. To reload it, use:\n",
      "  %reload_ext autoreload\n"
     ]
    }
   ],
   "source": [
    "%load_ext autoreload\n",
    "%autoreload 2"
   ]
  },
  {
   "cell_type": "code",
   "execution_count": 146,
   "id": "aba5794d-f540-461f-b13d-9d3edc536b40",
   "metadata": {},
   "outputs": [],
   "source": [
    "from main import *"
   ]
  },
  {
   "cell_type": "markdown",
   "id": "5bb8f96b-772b-4513-82ff-9556bbf77a9c",
   "metadata": {},
   "source": [
    "# Create group and add transactions"
   ]
  },
  {
   "cell_type": "code",
   "execution_count": 173,
   "id": "1f696e4e-a057-4603-a31c-628e33f74d48",
   "metadata": {},
   "outputs": [],
   "source": [
    "G = SplitWiseGroup(\"Best friends\")"
   ]
  },
  {
   "cell_type": "code",
   "execution_count": 174,
   "id": "923f2b88-7ae0-4807-a9df-5bb97a422ce5",
   "metadata": {},
   "outputs": [],
   "source": [
    "G.CURRENCY = \"€\""
   ]
  },
  {
   "cell_type": "code",
   "execution_count": 175,
   "id": "8d34f717-1e0e-4352-95de-1bc81aee8fcc",
   "metadata": {},
   "outputs": [
    {
     "name": "stdout",
     "output_type": "stream",
     "text": [
      "Group: Best friends\n",
      "No members yet.\n",
      "\n"
     ]
    }
   ],
   "source": [
    "G.display_group()"
   ]
  },
  {
   "cell_type": "code",
   "execution_count": 176,
   "id": "475535f2-6355-4b5a-8af8-ab0253ff910d",
   "metadata": {},
   "outputs": [],
   "source": [
    "G.add_members([\"Amelia\", \"Liam\", \"Evelyn\"])"
   ]
  },
  {
   "cell_type": "code",
   "execution_count": 177,
   "id": "52a2e384-664d-4019-98fb-26712e5221f1",
   "metadata": {},
   "outputs": [
    {
     "name": "stdout",
     "output_type": "stream",
     "text": [
      "Group: Best friends\n",
      "Members:\n",
      "* Amelia\n",
      "* Liam\n",
      "* Evelyn\n",
      "\n"
     ]
    }
   ],
   "source": [
    "G.display_group()"
   ]
  },
  {
   "cell_type": "code",
   "execution_count": 178,
   "id": "c61cd4e6-3031-4659-b4df-9ff7770786ce",
   "metadata": {},
   "outputs": [
    {
     "name": "stdout",
     "output_type": "stream",
     "text": [
      "No transactions yet.\n",
      "\n"
     ]
    }
   ],
   "source": [
    "G.display_transactions()"
   ]
  },
  {
   "cell_type": "code",
   "execution_count": 179,
   "id": "9988bd77-f80a-417e-ad66-47e4936decc0",
   "metadata": {},
   "outputs": [],
   "source": [
    "G.add_transaction(\"Sushi\", 111.23, \"Amelia\", [\"Amelia\", \"Liam\", \"Evelyn\"], proportions=[1, 2, 1])  # Liam has eaten twice more, Amelia paid"
   ]
  },
  {
   "cell_type": "code",
   "execution_count": 180,
   "id": "81961529-32d7-494f-88d8-80c7fe4adc70",
   "metadata": {},
   "outputs": [],
   "source": [
    "G.add_transaction(\"Taxi\", 149.98, \"Liam\", [\"Liam\", \"Evelyn\"])  # proportions are equal by default"
   ]
  },
  {
   "cell_type": "code",
   "execution_count": 181,
   "id": "dc462c6c-45d9-4e7c-ba3d-4f768e222605",
   "metadata": {},
   "outputs": [],
   "source": [
    "G.add_members([\"Oliver\"])"
   ]
  },
  {
   "cell_type": "code",
   "execution_count": 182,
   "id": "3c6c9319-d772-4602-9fb8-e18716c72188",
   "metadata": {},
   "outputs": [],
   "source": [
    "G.add_transaction(\"Coffee\", 51.16, \"Oliver\", [\"Liam\", \"Evelyn\", \"Oliver\", \"Amelia\"], proportions=[0.2, 0.2, 0.3, 0.3])"
   ]
  },
  {
   "cell_type": "code",
   "execution_count": 183,
   "id": "f1057e7b-c7e1-447a-a107-1965000f0d22",
   "metadata": {},
   "outputs": [
    {
     "name": "stdout",
     "output_type": "stream",
     "text": [
      "Group: Best friends\n",
      "Members:\n",
      "* Amelia\n",
      "* Liam\n",
      "* Evelyn\n",
      "* Oliver\n",
      "\n",
      "List of transactions:\n",
      "*  Paid 111.23 € for Sushi by Amelia\n",
      "   Split between: Amelia (25.0%), Liam (50.0%), Evelyn (25.0%)\n",
      "*  Paid 149.98 € for Taxi by Liam\n",
      "   Split between: Liam (50.0%), Evelyn (50.0%)\n",
      "*  Paid 51.16 € for Coffee by Oliver\n",
      "   Split between: Liam (20.0%), Evelyn (20.0%), Oliver (30.0%), Amelia (30.0%)\n",
      "\n",
      "List of debts:\n",
      "* Evelyn owes 68.08€ to Amelia\n",
      "* Evelyn owes 35.81€ to Oliver\n",
      "* Evelyn owes 9.14€ to Liam\n",
      "\n"
     ]
    }
   ],
   "source": [
    "G.display_group()\n",
    "G.display_transactions()\n",
    "G.display_debts()"
   ]
  },
  {
   "cell_type": "code",
   "execution_count": 184,
   "id": "dc7040de-9452-4a1a-a527-d4ff9a5c06bc",
   "metadata": {},
   "outputs": [],
   "source": [
    "G.add_transaction(\"Gas\", 141.05, \"Evelyn\", [\"Liam\", \"Evelyn\", \"Oliver\", \"Amelia\"])"
   ]
  },
  {
   "cell_type": "code",
   "execution_count": 185,
   "id": "00859ab7-3066-4aab-8910-8b8976cf6515",
   "metadata": {},
   "outputs": [
    {
     "name": "stdout",
     "output_type": "stream",
     "text": [
      "List of transactions:\n",
      "*  Paid 111.23 € for Sushi by Amelia\n",
      "   Split between: Amelia (25.0%), Liam (50.0%), Evelyn (25.0%)\n",
      "*  Paid 149.98 € for Taxi by Liam\n",
      "   Split between: Liam (50.0%), Evelyn (50.0%)\n",
      "*  Paid 51.16 € for Coffee by Oliver\n",
      "   Split between: Liam (20.0%), Evelyn (20.0%), Oliver (30.0%), Amelia (30.0%)\n",
      "*  Paid 141.05 € for Gas by Evelyn\n",
      "   Split between: Liam (25.0%), Evelyn (25.0%), Oliver (25.0%), Amelia (25.0%)\n",
      "\n",
      "List of debts:\n",
      "* Liam owes 26.12€ to Amelia\n",
      "* Evelyn owes 6.69€ to Amelia\n",
      "* Evelyn owes 0.55€ to Oliver\n",
      "\n"
     ]
    }
   ],
   "source": [
    "G.display_transactions()\n",
    "G.display_debts()"
   ]
  },
  {
   "cell_type": "code",
   "execution_count": 186,
   "id": "dcdec802-50e4-40dc-9a91-566f84196749",
   "metadata": {},
   "outputs": [
    {
     "name": "stdout",
     "output_type": "stream",
     "text": [
      "Transaction `Hotel` not found\n"
     ]
    }
   ],
   "source": [
    "G.remove_transaction(\"Hotel\")"
   ]
  },
  {
   "cell_type": "markdown",
   "id": "b19038e1-0919-4248-99a3-c07df9cc552d",
   "metadata": {},
   "source": [
    "# Settlements"
   ]
  },
  {
   "cell_type": "code",
   "execution_count": 187,
   "id": "a4c13a12-3267-483e-bb17-ce844c802187",
   "metadata": {},
   "outputs": [
    {
     "name": "stdout",
     "output_type": "stream",
     "text": [
      "Evelyn paid 6.69€ to Amelia\n"
     ]
    }
   ],
   "source": [
    "G.settle_up(\"Evelyn\", \"Amelia\", 6.69)"
   ]
  },
  {
   "cell_type": "code",
   "execution_count": 188,
   "id": "42b461e2-1a0b-4663-9b33-f1bcc5192d13",
   "metadata": {},
   "outputs": [
    {
     "name": "stdout",
     "output_type": "stream",
     "text": [
      "List of debts:\n",
      "* Liam owes 26.12€ to Amelia\n",
      "* Evelyn owes 0.55€ to Oliver\n",
      "\n"
     ]
    }
   ],
   "source": [
    "G.display_debts()"
   ]
  },
  {
   "cell_type": "code",
   "execution_count": 189,
   "id": "4ff020d5-57c8-4f15-b6a7-ce9c293b8160",
   "metadata": {},
   "outputs": [
    {
     "name": "stdout",
     "output_type": "stream",
     "text": [
      "Liam paid 26€ to Amelia\n"
     ]
    }
   ],
   "source": [
    "G.settle_up(\"Liam\", \"Amelia\", 26)"
   ]
  },
  {
   "cell_type": "code",
   "execution_count": 190,
   "id": "279dbdb7-4880-4064-a46e-1452247d8806",
   "metadata": {},
   "outputs": [
    {
     "name": "stdout",
     "output_type": "stream",
     "text": [
      "List of debts:\n",
      "* Evelyn owes 0.55€ to Oliver\n",
      "* Liam owes 0.12€ to Amelia\n",
      "\n"
     ]
    }
   ],
   "source": [
    "G.display_debts()"
   ]
  },
  {
   "cell_type": "markdown",
   "id": "5e0f7b49-3c22-4cf5-8f20-77040f36c921",
   "metadata": {},
   "source": [
    "# Forgive all debts"
   ]
  },
  {
   "cell_type": "code",
   "execution_count": 192,
   "id": "fb23cc0f-2bb0-43cb-8cfb-80191e7d50b3",
   "metadata": {},
   "outputs": [],
   "source": [
    "G.forgive_all_debts()"
   ]
  },
  {
   "cell_type": "code",
   "execution_count": 193,
   "id": "b94894b4-7c5d-4532-a497-3098cedfd1c8",
   "metadata": {},
   "outputs": [
    {
     "name": "stdout",
     "output_type": "stream",
     "text": [
      "All debts are settled.\n",
      "\n"
     ]
    }
   ],
   "source": [
    "G.display_debts()"
   ]
  },
  {
   "cell_type": "code",
   "execution_count": null,
   "id": "272520af-d5ea-4d55-b743-2a207d9dff3a",
   "metadata": {},
   "outputs": [],
   "source": []
  }
 ],
 "metadata": {
  "kernelspec": {
   "display_name": "Python 3 (ipykernel)",
   "language": "python",
   "name": "python3"
  },
  "language_info": {
   "codemirror_mode": {
    "name": "ipython",
    "version": 3
   },
   "file_extension": ".py",
   "mimetype": "text/x-python",
   "name": "python",
   "nbconvert_exporter": "python",
   "pygments_lexer": "ipython3",
   "version": "3.12.3"
  }
 },
 "nbformat": 4,
 "nbformat_minor": 5
}
