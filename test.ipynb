{
 "cells": [
  {
   "cell_type": "code",
   "execution_count": 185,
   "id": "bdc474a0-3d1f-48ce-9aa0-641434c73cc7",
   "metadata": {},
   "outputs": [
    {
     "name": "stdout",
     "output_type": "stream",
     "text": [
      "The autoreload extension is already loaded. To reload it, use:\n",
      "  %reload_ext autoreload\n"
     ]
    }
   ],
   "source": [
    "%load_ext autoreload\n",
    "%autoreload 2"
   ]
  },
  {
   "cell_type": "code",
   "execution_count": 153,
   "id": "aba5794d-f540-461f-b13d-9d3edc536b40",
   "metadata": {},
   "outputs": [],
   "source": [
    "from main import *"
   ]
  },
  {
   "cell_type": "code",
   "execution_count": 154,
   "id": "1f696e4e-a057-4603-a31c-628e33f74d48",
   "metadata": {},
   "outputs": [],
   "source": [
    "G = SplitWiseGroup(\"Test Group\")"
   ]
  },
  {
   "cell_type": "code",
   "execution_count": 155,
   "id": "8d34f717-1e0e-4352-95de-1bc81aee8fcc",
   "metadata": {},
   "outputs": [
    {
     "name": "stdout",
     "output_type": "stream",
     "text": [
      "Group: Test Group\n",
      "No members yet.\n",
      "\n"
     ]
    }
   ],
   "source": [
    "G.display_group()"
   ]
  },
  {
   "cell_type": "code",
   "execution_count": 156,
   "id": "a9f047f7-c1d4-42f5-bcae-1e762146e912",
   "metadata": {},
   "outputs": [
    {
     "data": {
      "text/plain": [
       "Group `Test Group` with 0 members and 0 transactions"
      ]
     },
     "execution_count": 156,
     "metadata": {},
     "output_type": "execute_result"
    }
   ],
   "source": [
    "G"
   ]
  },
  {
   "cell_type": "code",
   "execution_count": 157,
   "id": "475535f2-6355-4b5a-8af8-ab0253ff910d",
   "metadata": {},
   "outputs": [],
   "source": [
    "G.add_members([\"Vadim\", \"Sonya\"])"
   ]
  },
  {
   "cell_type": "code",
   "execution_count": 158,
   "id": "52a2e384-664d-4019-98fb-26712e5221f1",
   "metadata": {},
   "outputs": [
    {
     "name": "stdout",
     "output_type": "stream",
     "text": [
      "Group: Test Group\n",
      "Members:\n",
      "* Vadim\n",
      "* Sonya\n",
      "\n"
     ]
    }
   ],
   "source": [
    "G.display_group()"
   ]
  },
  {
   "cell_type": "code",
   "execution_count": 159,
   "id": "8d7d28c6-e7f5-485a-b509-9e4c4998d30d",
   "metadata": {},
   "outputs": [],
   "source": [
    "G.add_members([\"Katya\"])"
   ]
  },
  {
   "cell_type": "code",
   "execution_count": 160,
   "id": "8bdd69e4-3efc-494c-8945-8bb058660690",
   "metadata": {},
   "outputs": [
    {
     "name": "stdout",
     "output_type": "stream",
     "text": [
      "Group: Test Group\n",
      "Members:\n",
      "* Vadim\n",
      "* Sonya\n",
      "* Katya\n",
      "\n"
     ]
    }
   ],
   "source": [
    "G.display_group()"
   ]
  },
  {
   "cell_type": "code",
   "execution_count": 161,
   "id": "c61cd4e6-3031-4659-b4df-9ff7770786ce",
   "metadata": {},
   "outputs": [
    {
     "name": "stdout",
     "output_type": "stream",
     "text": [
      "No transactions yet.\n",
      "\n"
     ]
    }
   ],
   "source": [
    "G.display_transactions()"
   ]
  },
  {
   "cell_type": "code",
   "execution_count": 162,
   "id": "9988bd77-f80a-417e-ad66-47e4936decc0",
   "metadata": {},
   "outputs": [],
   "source": [
    "G.add_transaction(\"Sushi\", 100, \"Vadim\", [\"Vadim\", \"Sonya\", \"Katya\"], proportions=[2, 1, 1])"
   ]
  },
  {
   "cell_type": "code",
   "execution_count": 163,
   "id": "81961529-32d7-494f-88d8-80c7fe4adc70",
   "metadata": {},
   "outputs": [],
   "source": [
    "G.add_transaction(\"Taxi\", 100, \"Sonya\", [\"Vadim\", \"Sonya\"])"
   ]
  },
  {
   "cell_type": "code",
   "execution_count": 164,
   "id": "dc462c6c-45d9-4e7c-ba3d-4f768e222605",
   "metadata": {},
   "outputs": [],
   "source": [
    "G.add_members([\"Saniok\"])"
   ]
  },
  {
   "cell_type": "code",
   "execution_count": 165,
   "id": "3c6c9319-d772-4602-9fb8-e18716c72188",
   "metadata": {},
   "outputs": [],
   "source": [
    "G.add_transaction(\"Gory\", 50, \"Katya\", [\"Katya\", \"Vadim\", \"Sonya\", \"Saniok\"], proportions=[0.2, 0.2, 0.3, 0.3])"
   ]
  },
  {
   "cell_type": "code",
   "execution_count": 167,
   "id": "be190cc3-127c-4529-8a8b-71998ebbd11f",
   "metadata": {},
   "outputs": [],
   "source": [
    "# G.add_transaction(\"Gory\", 580, \"Vadim\", [\"Katya\", \"Vadim\", \"Sonya\", \"Saniok\"])"
   ]
  },
  {
   "cell_type": "code",
   "execution_count": 168,
   "id": "f1057e7b-c7e1-447a-a107-1965000f0d22",
   "metadata": {},
   "outputs": [
    {
     "name": "stdout",
     "output_type": "stream",
     "text": [
      "Group: Test Group\n",
      "Members:\n",
      "* Vadim\n",
      "* Sonya\n",
      "* Katya\n",
      "* Saniok\n",
      "\n",
      "List of transactions:\n",
      "*  Paid 100 zł for Sushi by Vadim\n",
      "   Split between: Vadim (50.0%), Sonya (25.0%), Katya (25.0%)\n",
      "*  Paid 100 zł for Taxi by Sonya\n",
      "   Split between: Vadim (50.0%), Sonya (50.0%)\n",
      "*  Paid 50 zł for Gory by Katya\n",
      "   Split between: Katya (20.0%), Vadim (20.0%), Sonya (30.0%), Saniok (30.0%)\n",
      "\n"
     ]
    }
   ],
   "source": [
    "G.display_group()\n",
    "G.display_transactions()"
   ]
  },
  {
   "cell_type": "code",
   "execution_count": 169,
   "id": "dcdec802-50e4-40dc-9a91-566f84196749",
   "metadata": {},
   "outputs": [
    {
     "name": "stdout",
     "output_type": "stream",
     "text": [
      "Transaction `tatry` not found\n"
     ]
    }
   ],
   "source": [
    "G.remove_transaction(\"tatry\")"
   ]
  },
  {
   "cell_type": "code",
   "execution_count": 170,
   "id": "38e1f07c-cdac-4edd-95dc-409c68cef045",
   "metadata": {},
   "outputs": [
    {
     "name": "stdout",
     "output_type": "stream",
     "text": [
      "Transaction `Gory` successfully removed\n"
     ]
    }
   ],
   "source": [
    "G.remove_transaction(\"Gory\")"
   ]
  },
  {
   "cell_type": "code",
   "execution_count": 171,
   "id": "bf5f9b2d-83c3-4544-a5e8-019746d7153b",
   "metadata": {},
   "outputs": [
    {
     "name": "stdout",
     "output_type": "stream",
     "text": [
      "List of transactions:\n",
      "*  Paid 100 zł for Sushi by Vadim\n",
      "   Split between: Vadim (50.0%), Sonya (25.0%), Katya (25.0%)\n",
      "*  Paid 100 zł for Taxi by Sonya\n",
      "   Split between: Vadim (50.0%), Sonya (50.0%)\n",
      "\n"
     ]
    }
   ],
   "source": [
    "G.display_transactions()"
   ]
  },
  {
   "cell_type": "code",
   "execution_count": 173,
   "id": "934ec2cb-3f0a-4ce0-a84c-33d92ee68980",
   "metadata": {},
   "outputs": [
    {
     "name": "stdout",
     "output_type": "stream",
     "text": [
      "Katya owns 25.0zł to Sonya\n"
     ]
    }
   ],
   "source": [
    "G.display_debts()"
   ]
  },
  {
   "cell_type": "code",
   "execution_count": 174,
   "id": "1044d72b-b510-4a0c-a41e-a24a65c5f8a2",
   "metadata": {},
   "outputs": [
    {
     "data": {
      "text/plain": [
       "array([[  0.,  25., -25.,   0.],\n",
       "       [-25.,   0.,   0.,   0.],\n",
       "       [ 25.,   0.,   0.,   0.],\n",
       "       [  0.,   0.,   0.,   0.]])"
      ]
     },
     "execution_count": 174,
     "metadata": {},
     "output_type": "execute_result"
    }
   ],
   "source": [
    "G.SettlementMatrix"
   ]
  },
  {
   "cell_type": "code",
   "execution_count": 175,
   "id": "4736c5bb-10a4-470f-adfb-ce662a6aca98",
   "metadata": {},
   "outputs": [
    {
     "data": {
      "text/plain": [
       "array([[  0.,   0.,   0.,   0.],\n",
       "       [  0.,   0., -25.,   0.],\n",
       "       [  0.,  25.,   0.,   0.],\n",
       "       [  0.,   0.,   0.,   0.]])"
      ]
     },
     "execution_count": 175,
     "metadata": {},
     "output_type": "execute_result"
    }
   ],
   "source": [
    "G.SettlementMatrixFinal"
   ]
  },
  {
   "cell_type": "code",
   "execution_count": 179,
   "id": "085b99a0-22a6-4c80-8e4c-fc1d73149809",
   "metadata": {},
   "outputs": [
    {
     "name": "stdout",
     "output_type": "stream",
     "text": [
      "Group: Test Group\n",
      "Members:\n",
      "* Vadim\n",
      "* Sonya\n",
      "* Katya\n",
      "* Saniok\n",
      "\n"
     ]
    }
   ],
   "source": [
    "G.display_group()"
   ]
  },
  {
   "cell_type": "code",
   "execution_count": 180,
   "id": "462cb03f-b5c0-4d78-8c67-2584d2718099",
   "metadata": {},
   "outputs": [
    {
     "name": "stdout",
     "output_type": "stream",
     "text": [
      "Katya owes 25.0zł to Sonya\n"
     ]
    }
   ],
   "source": [
    "G.display_debts()"
   ]
  },
  {
   "cell_type": "code",
   "execution_count": 187,
   "id": "a4c13a12-3267-483e-bb17-ce844c802187",
   "metadata": {},
   "outputs": [
    {
     "name": "stdout",
     "output_type": "stream",
     "text": [
      "`Katya` paid 25zł to `Sonya`\n"
     ]
    }
   ],
   "source": [
    "G.settle_up(\"Katya\", \"Sonya\", 25)"
   ]
  },
  {
   "cell_type": "code",
   "execution_count": 188,
   "id": "42b461e2-1a0b-4663-9b33-f1bcc5192d13",
   "metadata": {},
   "outputs": [
    {
     "name": "stdout",
     "output_type": "stream",
     "text": [
      "* Sonya owes 25.0zł to Katya\n"
     ]
    }
   ],
   "source": [
    "G.display_debts()"
   ]
  },
  {
   "cell_type": "code",
   "execution_count": 189,
   "id": "4ff020d5-57c8-4f15-b6a7-ce9c293b8160",
   "metadata": {},
   "outputs": [
    {
     "name": "stdout",
     "output_type": "stream",
     "text": [
      "`Sonya` paid 25zł to `Vadim`\n"
     ]
    }
   ],
   "source": [
    "G.settle_up(\"Sonya\", \"Vadim\", 25)"
   ]
  },
  {
   "cell_type": "code",
   "execution_count": 190,
   "id": "279dbdb7-4880-4064-a46e-1452247d8806",
   "metadata": {},
   "outputs": [
    {
     "name": "stdout",
     "output_type": "stream",
     "text": [
      "* Vadim owes 25.0zł to Katya\n"
     ]
    }
   ],
   "source": [
    "G.display_debts()"
   ]
  },
  {
   "cell_type": "code",
   "execution_count": null,
   "id": "cfc81e95-d2e1-4970-8422-2f59720f1b63",
   "metadata": {},
   "outputs": [],
   "source": []
  }
 ],
 "metadata": {
  "kernelspec": {
   "display_name": "Python 3 (ipykernel)",
   "language": "python",
   "name": "python3"
  },
  "language_info": {
   "codemirror_mode": {
    "name": "ipython",
    "version": 3
   },
   "file_extension": ".py",
   "mimetype": "text/x-python",
   "name": "python",
   "nbconvert_exporter": "python",
   "pygments_lexer": "ipython3",
   "version": "3.9.5"
  }
 },
 "nbformat": 4,
 "nbformat_minor": 5
}
